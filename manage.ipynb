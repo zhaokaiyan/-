{
 "cells": [
  {
   "cell_type": "code",
   "execution_count": null,
   "metadata": {
    "collapsed": true
   },
   "outputs": [],
   "source": [
    "import pandas as pd\n",
    "import math\n",
    "import types \n",
    "import numpy as np\n",
    "from sklearn.linear_model import LogisticRegression\n",
    "#cvs文件处理为np矩阵\n",
    "def load_ndarray(csv_file,label):\n",
    "    #连续数据离散化 LR模型常用的特征工程\n",
    "    def continuous_discrete(item):\n",
    "        if type(item) == type(1) or type(item) == type(1.1):\n",
    "            if item > 0: \n",
    "                return int(math.log10(item))\n",
    "            else:\n",
    "                return 0\n",
    "        else:\n",
    "            return item\n",
    "    df = pd.read_csv(csv_file)\n",
    "    for item in df.columns:\n",
    "        if item == label:\n",
    "            continue\n",
    "        df[item] = df[item].map(continuous_discrete)\n",
    "    return pd.get_dummies(df).as_matrix()\n",
    "#从np矩阵中读取X和Y\n",
    "def get_X_Y(np_ndarray, label_col):\n",
    "    if label_col == 0:\n",
    "        X = np_ndarray[:,1:]\n",
    "    elif label_col == 1:\n",
    "        #将一维数组转换为矩阵\n",
    "        def get_2dimension(np_ndarray):\n",
    "            _2dimesension = []\n",
    "            for item in np_ndarray:\n",
    "                _list = [item]\n",
    "                _2dimesension.append(_list)\n",
    "            return _2dimesension\n",
    "        X = np.concatenate((get_2dimension(np_ndarray[:,0]),np_ndarray[:,2:]), 1)\n",
    "    elif label_col == -1:\n",
    "        X = np_ndarray[:,:-1]\n",
    "    else:\n",
    "        X= np.concatenate((np_ndarray[:,label_col], np_ndarray[:,label_col + 1]), 1)\n",
    "    Y = np_ndarray[:,label_col]\n",
    "    return X, Y\n",
    "#打印结果\n",
    "def result_print(list):\n",
    "    for item in list:\n",
    "        print item\n",
    "#主函数\n",
    "def main():\n",
    "    train_np = load_ndarray('pfm_train.csv','Attrition')\n",
    "    test_np = load_ndarray('pfm_test.csv','Attrition')\n",
    "    X_train,Y_train = get_X_Y(train_np, 1)\n",
    "    X_test,Y_test = get_X_Y(test_np, 1)\n",
    "    model = LogisticRegression(penalty=\"l2\",C=0.5)\n",
    "    model.fit(X_train,Y_train)\n",
    "    result = model.predict(test_np)\n",
    "    result_print(result)\n",
    "#程序入口\n",
    "if __name__ == \"__main__\":\n",
    "    main()"
   ]
  }
 ],
 "metadata": {
  "kernelspec": {
   "display_name": "Python 3",
   "language": "python",
   "name": "python3"
  },
  "language_info": {
   "codemirror_mode": {
    "name": "ipython",
    "version": 3
   },
   "file_extension": ".py",
   "mimetype": "text/x-python",
   "name": "python",
   "nbconvert_exporter": "python",
   "pygments_lexer": "ipython3",
   "version": "3.6.0"
  }
 },
 "nbformat": 4,
 "nbformat_minor": 2
}
